{
 "cells": [
  {
   "cell_type": "code",
   "execution_count": 14,
   "id": "dce6542f-a05e-436a-94fd-936e83051eb3",
   "metadata": {},
   "outputs": [],
   "source": [
    "not_sent = \"cara0040@algonquinlive.com; korn0021@algonquinlive.com; mara0057@algonquinlive.com; saou0006@algonquinlive.com; htoo0016@algonquinlive.com; alay0011@algonquinlive.com; shar0664@algonquinlive.com; nero0013@algonquinlive.com; Desc0202@algonquinlive.com; mata0083@algonquinlive.com; schr0239@algonquinlive.com; deng0062@algonquinlive.com; ange0083@algonquinlive.com; shar0614@algonquinlive.com; abdu0582@algonquinlive.com; heib0002@algonquinlive.com; macc0112@algonquinlive.com; shar0660@algonquinlive.com; sing1773@algonquinlive.com; fric0007@algonquinlive.com; pete0391@algonquinlive.com; selk0009@algonquinlive.com; zhan0779@algonquinlive.com; jabe0050@algonquinlive.com; scan0046@algonquinlive.com; mars0413@algonquinlive.com; estu0002@algonquinlive.com; Trem0358@algonquinlive.com; tobi0042@algonquinlive.com; rima0003@algonquinlive.com; vign0022@algonquinlive.com; pere0230@algonquinlive.com; segu0355@algonquinlive.com; ward0368@algonquinlive.com; vanz0026@algonquinlive.com; chaa0026@algonquinlive.com; kava0074@algonquinlive.com; mort0124@algonquinlive.com; kaur0940@algonquinlive.com; bena0047@algonquinlive.com; gran0513@algonquinlive.com; park0558@algonquinlive.com; kamr0007@algonquinlive.com; vick0052@algonquinlive.com; Oztu0013@algonquinlive.com; kama0103@algonquinlive.com; doua0004@algonquinlive.com\""
   ]
  },
  {
   "cell_type": "code",
   "execution_count": 15,
   "id": "974f3330-72c2-4a9d-87df-948bb01f6b7e",
   "metadata": {},
   "outputs": [],
   "source": [
    "all = \"\"\"\n",
    "dham0028@algonquinlive.com <dham0028@algonquinlive.com>; guna0033@algonquinlive.com <guna0033@algonquinlive.com>; faus0015@algonquinlive.com <faus0015@algonquinlive.com>; maxe0001@algonquinlive.com <maxe0001@algonquinlive.com>; vale0173@algonquinlive.com <vale0173@algonquinlive.com>; sun00207@algonquinlive.com <sun00207@algonquinlive.com>; brag0033@algonquinlive.com <brag0033@algonquinlive.com>; whee0107@algonquinlive.com <whee0107@algonquinlive.com>; murp0500@algonquinlive.com <murp0500@algonquinlive.com>; kaur1174@algonquinlive.com <kaur1174@algonquinlive.com>; iida0001@algonquinlive.com <iida0001@algonquinlive.com>; burw0034@algonquinlive.com <burw0034@algonquinlive.com>; lee00870@algonquinlive.com <lee00870@algonquinlive.com>; shig0007@algonquinlive.com <shig0007@algonquinlive.com>; main0136@algonquinlive.com <main0136@algonquinlive.com>; lnu00003@algonquinlive.com <lnu00003@algonquinlive.com>; carp0089@algonquinlive.com <carp0089@algonquinlive.com>; shin0107@algonquinlive.com <shin0107@algonquinlive.com>; cott0081@algonquinlive.com <cott0081@algonquinlive.com>; ande0681@algonquinlive.com <ande0681@algonquinlive.com>; sade0043@algonquinlive.com <sade0043@algonquinlive.com>; aega0001@algonquinlive.com <aega0001@algonquinlive.com>; kaur1293@algonquinlive.com <kaur1293@algonquinlive.com>; sing2115@algonquinlive.com <sing2115@algonquinlive.com>; dey00021@algonquinlive.com <dey00021@algonquinlive.com>; abdu0583@algonquinlive.com <abdu0583@algonquinlive.com>; dad00001@algonquinlive.com <dad00001@algonquinlive.com>; puro0013@algonquinlive.com <puro0013@algonquinlive.com>; sain0198@algonquinlive.com <sain0198@algonquinlive.com>; dama0034@algonquinlive.com <dama0034@algonquinlive.com>; song0147@algonquinlive.com <song0147@algonquinlive.com>; bakk0037@algonquinlive.com <bakk0037@algonquinlive.com>; varg0082@algonquinlive.com <varg0082@algonquinlive.com>; alja0061@algonquinlive.com <alja0061@algonquinlive.com>; odat0001@algonquinlive.com <odat0001@algonquinlive.com>; gnan0013@algonquinlive.com <gnan0013@algonquinlive.com>; mory0003@algonquinlive.com <mory0003@algonquinlive.com>; roja0042@algonquinlive.com <roja0042@algonquinlive.com>; jeya0029@algonquinlive.com <jeya0029@algonquinlive.com>; slau0013@algonquinlive.com <slau0013@algonquinlive.com>; taou0004@algonquinlive.com <taou0004@algonquinlive.com>; bone0052@algonquinlive.com <bone0052@algonquinlive.com>; mahe0109@algonquinlive.com <mahe0109@algonquinlive.com>; shar0705@algonquinlive.com <shar0705@algonquinlive.com>; meen0009@algonquinlive.com <meen0009@algonquinlive.com>; grig0037@algonquinlive.com <grig0037@algonquinlive.com>; kapp0009@algonquinlive.com <kapp0009@algonquinlive.com>; wolf0079@algonquinlive.com <wolf0079@algonquinlive.com>; augu0047@algonquinlive.com <augu0047@algonquinlive.com>; kama0113@algonquinlive.com <kama0113@algonquinlive.com>; ebad0022@algonquinlive.com <ebad0022@algonquinlive.com>; alab0073@algonquinlive.com <alab0073@algonquinlive.com>; noor0062@algonquinlive.com <noor0062@algonquinlive.com>; koll0031@algonquinlive.com <koll0031@algonquinlive.com>; yoon0029@algonquinlive.com <yoon0029@algonquinlive.com>; chau0155@algonquinlive.com <chau0155@algonquinlive.com>; ahme0573@algonquinlive.com <ahme0573@algonquinlive.com>; dway0009@algonquinlive.com <dway0009@algonquinlive.com>; scol0019@algonquinlive.com <scol0019@algonquinlive.com>; choh0009@algonquinlive.com <choh0009@algonquinlive.com>; fei00008@algonquinlive.com <fei00008@algonquinlive.com>; yang0360@algonquinlive.com <yang0360@algonquinlive.com>; yako0013@algonquinlive.com <yako0013@algonquinlive.com>; xavi0021@algonquinlive.com <xavi0021@algonquinlive.com>; Suen0005@algonquinlive.com <Suen0005@algonquinlive.com>; seto0040@algonquinlive.com <seto0040@algonquinlive.com>; tash0016@algonquinlive.com <tash0016@algonquinlive.com>; aror0086@algonquinlive.com <aror0086@algonquinlive.com>; Rome0073@algonquinlive.com <Rome0073@algonquinlive.com>; lebl0449@algonquinlive.com <lebl0449@algonquinlive.com>; webe0064@algonquinlive.com <webe0064@algonquinlive.com>; nath0024@algonquinlive.com <nath0024@algonquinlive.com>; kaml0002@algonquinlive.com <kaml0002@algonquinlive.com>; rols0006@algonquinlive.com <rols0006@algonquinlive.com>; muli0012@algonquinlive.com <muli0012@algonquinlive.com>; cres0041@algonquinlive.com <cres0041@algonquinlive.com>; plac0024@algonquinlive.com <plac0024@algonquinlive.com>; pitp0001@algonquinlive.com <pitp0001@algonquinlive.com>; sale0179@algonquinlive.com <sale0179@algonquinlive.com>; Belk0019@algonquinlive.com <Belk0019@algonquinlive.com>; iker0005@algonquinlive.com <iker0005@algonquinlive.com>; rani0038@algonquinlive.com <rani0038@algonquinlive.com>; mcdo0662@algonquinlive.com <mcdo0662@algonquinlive.com>; titu0006@algonquinlive.com <titu0006@algonquinlive.com>; paqu0249@algonquinlive.com <paqu0249@algonquinlive.com>; wilk0241@algonquinlive.com <wilk0241@algonquinlive.com>; pane0034@algonquinlive.com <pane0034@algonquinlive.com>; karn0021@algonquinlive.com <karn0021@algonquinlive.com>; kari0103@algonquinlive.com <kari0103@algonquinlive.com>; ward0358@algonquinlive.com <ward0358@algonquinlive.com>; mend0171@algonquinlive.com <mend0171@algonquinlive.com>; mend0141@algonquinlive.com <mend0141@algonquinlive.com>; rive0161@algonquinlive.com <rive0161@algonquinlive.com>; murp0500@algonquinlive.com <murp0500@algonquinlive.com>; gaut0505@algonquinlive.com <gaut0505@algonquinlive.com>; mehi0002@algonquinlive.com <mehi0002@algonquinlive.com>; more0332@algonquinlive.com <more0332@algonquinlive.com>; frey0012@algonquinlive.com <frey0012@algonquinlive.com>; beyn0003@algonquinlive.com <beyn0003@algonquinlive.com>; four0228@algonquinlive.com <four0228@algonquinlive.com>; cara0040@algonquinlive.com <cara0040@algonquinlive.com>; korn0021@algonquinlive.com <korn0021@algonquinlive.com>; mara0057@algonquinlive.com <mara0057@algonquinlive.com>; saou0006@algonquinlive.com <saou0006@algonquinlive.com>; htoo0016@algonquinlive.com <htoo0016@algonquinlive.com>; alay0011@algonquinlive.com <alay0011@algonquinlive.com>; shar0664@algonquinlive.com <shar0664@algonquinlive.com>; nero0013@algonquinlive.com <nero0013@algonquinlive.com>; Desc0202@algonquinlive.com <Desc0202@algonquinlive.com>; mata0083@algonquinlive.com <mata0083@algonquinlive.com>; schr0239@algonquinlive.com <schr0239@algonquinlive.com>; deng0062@algonquinlive.com <deng0062@algonquinlive.com>; ange0083@algonquinlive.com <ange0083@algonquinlive.com>; shar0614@algonquinlive.com <shar0614@algonquinlive.com>; abdu0582@algonquinlive.com <abdu0582@algonquinlive.com>; heib0002@algonquinlive.com <heib0002@algonquinlive.com>; macc0112@algonquinlive.com <macc0112@algonquinlive.com>; shar0660@algonquinlive.com <shar0660@algonquinlive.com>; sing1773@algonquinlive.com <sing1773@algonquinlive.com>; fric0007@algonquinlive.com <fric0007@algonquinlive.com>; pete0391@algonquinlive.com <pete0391@algonquinlive.com>; selk0009@algonquinlive.com <selk0009@algonquinlive.com>; zhan0779@algonquinlive.com <zhan0779@algonquinlive.com>; jabe0050@algonquinlive.com <jabe0050@algonquinlive.com>; scan0046@algonquinlive.com <scan0046@algonquinlive.com>; mars0413@algonquinlive.com <mars0413@algonquinlive.com>; estu0002@algonquinlive.com <estu0002@algonquinlive.com>; Trem0358@algonquinlive.com <Trem0358@algonquinlive.com>; tobi0042@algonquinlive.com <tobi0042@algonquinlive.com>; rima0003@algonquinlive.com <rima0003@algonquinlive.com>; vign0022@algonquinlive.com <vign0022@algonquinlive.com>; pere0230@algonquinlive.com <pere0230@algonquinlive.com>; segu0355@algonquinlive.com <segu0355@algonquinlive.com>; ward0368@algonquinlive.com <ward0368@algonquinlive.com>; vanz0026@algonquinlive.com <vanz0026@algonquinlive.com>; chaa0026@algonquinlive.com <chaa0026@algonquinlive.com>; kava0074@algonquinlive.com <kava0074@algonquinlive.com>; mort0124@algonquinlive.com <mort0124@algonquinlive.com>; kaur0940@algonquinlive.com <kaur0940@algonquinlive.com>; bena0047@algonquinlive.com <bena0047@algonquinlive.com>; gran0513@algonquinlive.com <gran0513@algonquinlive.com>; park0558@algonquinlive.com <park0558@algonquinlive.com>; kamr0007@algonquinlive.com <kamr0007@algonquinlive.com>; vick0052@algonquinlive.com <vick0052@algonquinlive.com>; Oztu0013@algonquinlive.com <Oztu0013@algonquinlive.com>; kama0103@algonquinlive.com <kama0103@algonquinlive.com>; doua0004@algonquinlive.com <doua0004@algonquinlive.com>; bedn0017@algonquinlive.com <bedn0017@algonquinlive.com>; broo0294@algonquinlive.com <broo0294@algonquinlive.com>; chat0102@algonquinlive.com <chat0102@algonquinlive.com>; cott0081@algonquinlive.com <cott0081@algonquinlive.com>; curt0068@algonquinlive.com <curt0068@algonquinlive.com>; ejey0001@algonquinlive.com <ejey0001@algonquinlive.com>; anfaaren@gmail.com <anfaaren@gmail.com>; john1480@algonquinlive.com <john1480@algonquinlive.com>; josh0066@algonquinlive.com <josh0066@algonquinlive.com>; Kew00005@algonquinlive.com <Kew00005@algonquinlive.com>; mico0001@algonquinlive.com <mico0001@algonquinlive.com>; sasa0014@algonquinlive.com <sasa0014@algonquinlive.com>; smit2152@algonquinlive.com <smit2152@algonquinlive.com>; tela0002@algonquinlive.com <tela0002@algonquinlive.com>; tess0159@algonquinlive.com <tess0159@algonquinlive.com>; varg0082@algonquinlive.com <varg0082@algonquinlive.com>; weir0068@algonquinlive.com <weir0068@algonquinlive.com>; zhan0713@algonquinlive.com <zhan0713@algonquinlive.com>; tiana.griffith@yahoo.com <tiana.griffith@yahoo.com>; isaroxanne2002@gmail.com <isaroxanne2002@gmail.com>; ibeccab@yahoo.com <ibeccab@yahoo.com>\n",
    "\n",
    "\"\"\""
   ]
  },
  {
   "cell_type": "code",
   "execution_count": 16,
   "id": "83be3fff-aa77-41e8-87cf-078b815cc652",
   "metadata": {},
   "outputs": [],
   "source": [
    "not_sent = not_sent.split(';')\n",
    "for i in range(len(not_sent)):\n",
    "    not_sent[i] = not_sent[i].strip()"
   ]
  },
  {
   "cell_type": "code",
   "execution_count": 18,
   "id": "7dee00aa-26cf-4fd0-b73e-4f619119f6c8",
   "metadata": {},
   "outputs": [
    {
     "data": {
      "text/plain": [
       "47"
      ]
     },
     "execution_count": 18,
     "metadata": {},
     "output_type": "execute_result"
    }
   ],
   "source": [
    "not_sent.__len__()"
   ]
  },
  {
   "cell_type": "code",
   "execution_count": null,
   "id": "2d9fbd03-d5f7-4a6d-8a80-a5eb028e142a",
   "metadata": {},
   "outputs": [],
   "source": []
  }
 ],
 "metadata": {
  "kernelspec": {
   "display_name": "Python 3 (ipykernel)",
   "language": "python",
   "name": "python3"
  },
  "language_info": {
   "codemirror_mode": {
    "name": "ipython",
    "version": 3
   },
   "file_extension": ".py",
   "mimetype": "text/x-python",
   "name": "python",
   "nbconvert_exporter": "python",
   "pygments_lexer": "ipython3",
   "version": "3.10.12"
  }
 },
 "nbformat": 4,
 "nbformat_minor": 5
}
